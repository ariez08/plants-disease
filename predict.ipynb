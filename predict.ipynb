{
 "cells": [
  {
   "cell_type": "code",
   "execution_count": 1,
   "metadata": {},
   "outputs": [],
   "source": [
    "import os\n",
    "import tensorflow.lite as tflite\n",
    "import numpy as np\n",
    "from PIL import Image"
   ]
  },
  {
   "cell_type": "code",
   "execution_count": 2,
   "metadata": {},
   "outputs": [],
   "source": [
    "def predict_plant_disease(image_path, model_path, label_path):\n",
    "    # Load the TensorFlow Lite model\n",
    "    interpreter = tflite.Interpreter(model_path)\n",
    "    interpreter.allocate_tensors()\n",
    "\n",
    "    # Get input and output details\n",
    "    input_details = interpreter.get_input_details()\n",
    "    output_details = interpreter.get_output_details()\n",
    "\n",
    "    # Preprocess the image\n",
    "    img = Image.open(image_path).resize((224, 224))\n",
    "    img = np.array(img)\n",
    "    img = img.astype(np.float32) / 255.0\n",
    "\n",
    "    # Set the input tensor\n",
    "    input_data = np.expand_dims(img, axis=0)\n",
    "    input_data = input_data.astype(input_details[0]['dtype'])\n",
    "    interpreter.set_tensor(input_details[0]['index'], input_data)\n",
    "\n",
    "    # Run inference\n",
    "    interpreter.invoke()\n",
    "\n",
    "    # Get the folder names as class labels\n",
    "    label_names = sorted(os.listdir(label_path))\n",
    "\n",
    "    # Get the output tensor\n",
    "    output_tensor = interpreter.get_tensor(output_details[0]['index'])\n",
    "\n",
    "    # Postprocess the output\n",
    "    predicted_label_indices = np.argmax(output_tensor, axis=1)\n",
    "    predicted_labels = [label_names[index] for index in predicted_label_indices]\n",
    "    probabilities = output_tensor[0]\n",
    "\n",
    "    return predicted_labels[0], probabilities, label_names"
   ]
  },
  {
   "cell_type": "code",
   "execution_count": 3,
   "metadata": {},
   "outputs": [],
   "source": [
    "plants = \"tomato\"\n",
    "plants_type = \"Tomato___Yellow_Leaf_Curl_Virus\"\n",
    "\n",
    "model_path = './assets/'+plants+'_disease9377.tflite'\n",
    "test_path = \"./data/Plant Disease/Plants Disease Dataset Subset/\"+plants+\"/valid\"\n",
    "label_path = './data/Plant Disease/Plants Disease Dataset Subset/'+plants+'/train'\n",
    "folder_path = os.path.join(test_path, plants_type)\n",
    "files = os.listdir(folder_path)"
   ]
  },
  {
   "cell_type": "code",
   "execution_count": 4,
   "metadata": {},
   "outputs": [
    {
     "name": "stdout",
     "output_type": "stream",
     "text": [
      "Expected label \t: Tomato___Yellow_Leaf_Curl_Virus\n",
      "Predicted label \t: Tomato___Yellow_Leaf_Curl_Virus\n",
      "Probabilities:\n",
      "Tomato___Bacterial_spot \t: 2.1756345631729346e-06\n",
      "Tomato___Early_blight \t: 0.0032232266385108232\n",
      "Tomato___Late_blight \t: 0.0002557570405770093\n",
      "Tomato___Leaf_Mold \t: 0.23837122321128845\n",
      "Tomato___Mosaic_virus \t: 0.0008237004512920976\n",
      "Tomato___Septoria_leaf_spot \t: 1.0716526048781816e-06\n",
      "Tomato___Spotted_spider_mite \t: 0.0007952566957101226\n",
      "Tomato___Target_Spot \t: 2.686369225557428e-05\n",
      "Tomato___Yellow_Leaf_Curl_Virus \t: 0.7564859986305237\n",
      "Tomato___healthy \t: 1.4686337635794189e-05\n"
     ]
    }
   ],
   "source": [
    "file_index = 0\n",
    "print(\"Expected label \\t:\", plants_type)\n",
    "file_path = os.path.join(folder_path, files[file_index])\n",
    "predicted_label, prob, label = predict_plant_disease(file_path, model_path, label_path)\n",
    "print(\"Predicted label \\t:\", predicted_label)\n",
    "print(\"Probabilities:\")\n",
    "for class_name, prob in zip(label, prob):\n",
    "    print(f\"{class_name} \\t: {prob}\")"
   ]
  },
  {
   "cell_type": "code",
   "execution_count": null,
   "metadata": {},
   "outputs": [],
   "source": [
    "print(\"Expected label \\t:\", plants_type)\n",
    "for i in range(10):\n",
    "    file_path = os.path.join(folder_path, files[i])\n",
    "    predicted_label, prob, label = predict_plant_disease(file_path, model_path, label_path)\n",
    "    print(\"Predicted label \\t:\", predicted_label)\n",
    "    print(\"Probabilities:\")\n",
    "    for class_name, prob in zip(label, prob):\n",
    "        print(f\"{class_name} \\t: {prob}\")\n",
    "    print(\"=\"*20,\"\\n\")"
   ]
  },
  {
   "cell_type": "code",
   "execution_count": null,
   "metadata": {},
   "outputs": [],
   "source": []
  }
 ],
 "metadata": {
  "kernelspec": {
   "display_name": "Python 3",
   "language": "python",
   "name": "python3"
  },
  "language_info": {
   "codemirror_mode": {
    "name": "ipython",
    "version": 3
   },
   "file_extension": ".py",
   "mimetype": "text/x-python",
   "name": "python",
   "nbconvert_exporter": "python",
   "pygments_lexer": "ipython3",
   "version": "3.11.4"
  },
  "orig_nbformat": 4
 },
 "nbformat": 4,
 "nbformat_minor": 2
}
