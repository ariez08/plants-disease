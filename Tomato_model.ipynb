{
 "cells": [
  {
   "attachments": {},
   "cell_type": "markdown",
   "metadata": {},
   "source": [
    "## Importing Modules Needed"
   ]
  },
  {
   "cell_type": "code",
   "execution_count": 1,
   "metadata": {},
   "outputs": [],
   "source": [
    "import os\n",
    "import tensorflow as tf\n",
    "from tensorflow.keras.applications.mobilenet_v2 import preprocess_input\n",
    "from tensorflow.keras.preprocessing.image import ImageDataGenerator\n",
    "from tensorflow.keras.models import Sequential\n",
    "from tensorflow.keras.layers import Dense, GlobalAveragePooling2D, Dropout\n",
    "from tensorflow.keras.callbacks import ModelCheckpoint, EarlyStopping, ReduceLROnPlateau\n",
    "from tensorflow.keras.optimizers import Adam"
   ]
  },
  {
   "attachments": {},
   "cell_type": "markdown",
   "metadata": {},
   "source": [
    "We set our image to be 224 x 224 in RGB color (3)"
   ]
  },
  {
   "cell_type": "code",
   "execution_count": 2,
   "metadata": {},
   "outputs": [],
   "source": [
    "image_size = (224, 224)"
   ]
  },
  {
   "attachments": {},
   "cell_type": "markdown",
   "metadata": {},
   "source": [
    "We have decided to use Transfer Learning tehcnique and choose MobileNetV3 Small as our base model"
   ]
  },
  {
   "cell_type": "code",
   "execution_count": 3,
   "metadata": {},
   "outputs": [],
   "source": [
    "base_model = tf.keras.applications.MobileNetV2(\n",
    "    include_top=False, \n",
    "    weights='imagenet', \n",
    "    input_shape=(image_size[0], image_size[1], 3),\n",
    ")"
   ]
  },
  {
   "attachments": {},
   "cell_type": "markdown",
   "metadata": {},
   "source": [
    "## Prepare The Data"
   ]
  },
  {
   "attachments": {},
   "cell_type": "markdown",
   "metadata": {},
   "source": [
    "This cell is used to define the data augmentation, we only applied the augmentation in training data"
   ]
  },
  {
   "cell_type": "code",
   "execution_count": 4,
   "metadata": {},
   "outputs": [],
   "source": [
    "# Preprocess the input images and apply augmentation\n",
    "train_datagen = ImageDataGenerator(\n",
    "    preprocessing_function=preprocess_input,\n",
    "    rotation_range=20,\n",
    "    width_shift_range=0.2,\n",
    "    height_shift_range=0.2,\n",
    "    zoom_range=0.2,\n",
    "    fill_mode='nearest'\n",
    ")\n",
    "\n",
    "valid_datagen = ImageDataGenerator(\n",
    "    preprocessing_function=preprocess_input,\n",
    ")"
   ]
  },
  {
   "attachments": {},
   "cell_type": "markdown",
   "metadata": {},
   "source": [
    "Our dataset is inside \"data\" folder, which already split into train and valid sub folders"
   ]
  },
  {
   "cell_type": "code",
   "execution_count": 5,
   "metadata": {},
   "outputs": [],
   "source": [
    "base_path = \"data/Plant Disease/Plants Disease Dataset Subset\" #Local Notebook\n",
    "source_path = os.path.join(base_path, \"Tomato\")\n",
    "train_path = os.path.join(source_path, \"train\")\n",
    "valid_path = os.path.join(source_path, \"valid\")"
   ]
  },
  {
   "attachments": {},
   "cell_type": "markdown",
   "metadata": {},
   "source": [
    "Arrange the dataset by creating train and validation data generators. We also specify tha batch size and target image size here"
   ]
  },
  {
   "cell_type": "code",
   "execution_count": 6,
   "metadata": {},
   "outputs": [
    {
     "name": "stdout",
     "output_type": "stream",
     "text": [
      "Found 712 images belonging to 10 classes.\n",
      "Found 200 images belonging to 10 classes.\n"
     ]
    }
   ],
   "source": [
    "train_generator = train_datagen.flow_from_directory(\n",
    "    train_path,\n",
    "    target_size=image_size,\n",
    "    batch_size=32,\n",
    "    class_mode='categorical',\n",
    "    shuffle = True\n",
    ")\n",
    "\n",
    "validation_generator = valid_datagen.flow_from_directory(\n",
    "    valid_path,\n",
    "    target_size=image_size,\n",
    "    batch_size=10,\n",
    "    class_mode='categorical',\n",
    "    shuffle = False\n",
    ")"
   ]
  },
  {
   "attachments": {},
   "cell_type": "markdown",
   "metadata": {},
   "source": [
    "## Defining the model\n",
    "Inside our model we use MobileNetV3 Small combine them with more layer to increase the accuracy. We also specify the last/output layer with 10 Neuron since we have 10 classes in total"
   ]
  },
  {
   "cell_type": "code",
   "execution_count": 43,
   "metadata": {},
   "outputs": [
    {
     "name": "stdout",
     "output_type": "stream",
     "text": [
      "Model: \"sequential_12\"\n",
      "_________________________________________________________________\n",
      " Layer (type)                Output Shape              Param #   \n",
      "=================================================================\n",
      " mobilenetv2_1.00_224 (Funct  (None, 7, 7, 1280)       2257984   \n",
      " ional)                                                          \n",
      "                                                                 \n",
      " dropout_14 (Dropout)        (None, 7, 7, 1280)        0         \n",
      "                                                                 \n",
      " global_average_pooling2d_12  (None, 1280)             0         \n",
      "  (GlobalAveragePooling2D)                                       \n",
      "                                                                 \n",
      " dense_37 (Dense)            (None, 256)               327936    \n",
      "                                                                 \n",
      " dense_38 (Dense)            (None, 128)               32896     \n",
      "                                                                 \n",
      " dense_39 (Dense)            (None, 10)                1290      \n",
      "                                                                 \n",
      "=================================================================\n",
      "Total params: 2,620,106\n",
      "Trainable params: 362,122\n",
      "Non-trainable params: 2,257,984\n",
      "_________________________________________________________________\n"
     ]
    }
   ],
   "source": [
    "# from tensorflow.keras import regularizers\n",
    "\n",
    "for layer in base_model.layers[:-2]:\n",
    "    layer.trainable = False\n",
    "\n",
    "with tf.device(\"GPU\"):\n",
    "    model = Sequential()\n",
    "    model.add(base_model)\n",
    "    model.add(Dropout(0.3))\n",
    "    model.add(GlobalAveragePooling2D())\n",
    "    model.add(Dense(256, activation='relu'))\n",
    "    model.add(Dense(128, activation='relu'))\n",
    "    model.add(Dense(10, activation='softmax'))\n",
    "\n",
    "# Compile the model\n",
    "learning_rate = 0.01\n",
    "optimizer = Adam(learning_rate=learning_rate)\n",
    "model.compile(optimizer=optimizer, loss='categorical_crossentropy', metrics=['accuracy'])\n",
    "\n",
    "# Print the model summary\n",
    "model.summary()"
   ]
  },
  {
   "attachments": {},
   "cell_type": "markdown",
   "metadata": {},
   "source": [
    "We train our model with some callbacks to save the checkpoints and run on 30 epoch with monitoring on validation accuracy"
   ]
  },
  {
   "cell_type": "code",
   "execution_count": 44,
   "metadata": {},
   "outputs": [
    {
     "name": "stdout",
     "output_type": "stream",
     "text": [
      "Epoch 1/20\n",
      "23/23 [==============================] - 25s 938ms/step - loss: 4.5074 - accuracy: 0.1952 - val_loss: 1.9899 - val_accuracy: 0.2850 - lr: 0.0100\n",
      "Epoch 2/20\n",
      "23/23 [==============================] - 19s 841ms/step - loss: 1.4191 - accuracy: 0.5154 - val_loss: 1.3799 - val_accuracy: 0.4950 - lr: 0.0100\n",
      "Epoch 3/20\n",
      "23/23 [==============================] - 19s 827ms/step - loss: 1.0131 - accuracy: 0.6390 - val_loss: 1.2163 - val_accuracy: 0.5800 - lr: 0.0100\n",
      "Epoch 4/20\n",
      "23/23 [==============================] - 19s 828ms/step - loss: 0.8144 - accuracy: 0.7317 - val_loss: 0.9564 - val_accuracy: 0.6350 - lr: 0.0100\n",
      "Epoch 5/20\n",
      "23/23 [==============================] - 19s 820ms/step - loss: 0.6739 - accuracy: 0.7669 - val_loss: 0.9240 - val_accuracy: 0.6850 - lr: 0.0100\n",
      "Epoch 6/20\n",
      "23/23 [==============================] - 19s 816ms/step - loss: 0.6166 - accuracy: 0.7753 - val_loss: 0.8246 - val_accuracy: 0.7250 - lr: 0.0100\n",
      "Epoch 7/20\n",
      "23/23 [==============================] - 19s 823ms/step - loss: 0.5363 - accuracy: 0.8174 - val_loss: 0.8330 - val_accuracy: 0.7150 - lr: 0.0100\n",
      "Epoch 8/20\n",
      "23/23 [==============================] - 19s 817ms/step - loss: 0.6629 - accuracy: 0.7753 - val_loss: 0.8807 - val_accuracy: 0.7000 - lr: 0.0100\n",
      "Epoch 9/20\n",
      "23/23 [==============================] - 19s 815ms/step - loss: 0.4783 - accuracy: 0.8497 - val_loss: 1.1851 - val_accuracy: 0.6400 - lr: 0.0100\n",
      "Epoch 10/20\n",
      "23/23 [==============================] - 19s 818ms/step - loss: 0.3939 - accuracy: 0.8624 - val_loss: 0.6840 - val_accuracy: 0.7550 - lr: 1.0000e-03\n",
      "Epoch 11/20\n",
      "23/23 [==============================] - 19s 814ms/step - loss: 0.2809 - accuracy: 0.9045 - val_loss: 0.7445 - val_accuracy: 0.7350 - lr: 1.0000e-03\n",
      "Epoch 12/20\n",
      "23/23 [==============================] - 19s 822ms/step - loss: 0.3011 - accuracy: 0.9017 - val_loss: 0.7090 - val_accuracy: 0.7500 - lr: 1.0000e-03\n",
      "Epoch 13/20\n",
      "23/23 [==============================] - 19s 818ms/step - loss: 0.2980 - accuracy: 0.8876 - val_loss: 0.6736 - val_accuracy: 0.7750 - lr: 1.0000e-03\n",
      "Epoch 14/20\n",
      "23/23 [==============================] - 19s 824ms/step - loss: 0.2517 - accuracy: 0.9017 - val_loss: 0.6211 - val_accuracy: 0.7700 - lr: 1.0000e-03\n",
      "Epoch 15/20\n",
      "23/23 [==============================] - 19s 833ms/step - loss: 0.2359 - accuracy: 0.9115 - val_loss: 0.6404 - val_accuracy: 0.7700 - lr: 1.0000e-03\n",
      "Epoch 16/20\n",
      "23/23 [==============================] - 20s 848ms/step - loss: 0.2267 - accuracy: 0.9326 - val_loss: 0.6206 - val_accuracy: 0.7750 - lr: 1.0000e-03\n",
      "Epoch 17/20\n",
      "23/23 [==============================] - 20s 846ms/step - loss: 0.2369 - accuracy: 0.9185 - val_loss: 0.6319 - val_accuracy: 0.7750 - lr: 1.0000e-04\n",
      "Epoch 18/20\n",
      "23/23 [==============================] - 20s 855ms/step - loss: 0.2279 - accuracy: 0.9185 - val_loss: 0.6373 - val_accuracy: 0.7750 - lr: 1.0000e-04\n",
      "Epoch 19/20\n",
      "23/23 [==============================] - 20s 852ms/step - loss: 0.2071 - accuracy: 0.9354 - val_loss: 0.6386 - val_accuracy: 0.7750 - lr: 1.0000e-04\n",
      "Epoch 20/20\n",
      "23/23 [==============================] - 20s 851ms/step - loss: 0.2318 - accuracy: 0.9312 - val_loss: 0.6392 - val_accuracy: 0.7750 - lr: 1.0000e-05\n"
     ]
    }
   ],
   "source": [
    "checkpoint_callback = ModelCheckpoint('./saved_model/tomato_mw_v2.h5', save_best_only=True, save_weights_only=True)\n",
    "early_stopping_callback = EarlyStopping(patience=5, monitor='val_accuracy', restore_best_weights=True)\n",
    "reduce_lr_callback = ReduceLROnPlateau(factor=0.1, patience=3, monitor='val_accuracy')\n",
    "\n",
    "epoch = 20\n",
    "with tf.device('GPU'):\n",
    "    history = model.fit(\n",
    "        train_generator,\n",
    "        steps_per_epoch=len(train_generator),\n",
    "        epochs=epoch,\n",
    "        validation_data=validation_generator,\n",
    "        validation_steps=len(validation_generator),\n",
    "        callbacks=[\n",
    "            # checkpoint_callback, \n",
    "            # early_stopping_callback, \n",
    "            reduce_lr_callback\n",
    "            ]\n",
    "    )"
   ]
  },
  {
   "attachments": {},
   "cell_type": "markdown",
   "metadata": {},
   "source": [
    "## Plotting the result"
   ]
  },
  {
   "cell_type": "code",
   "execution_count": 45,
   "metadata": {},
   "outputs": [
    {
     "data": {
      "image/png": "[encoded data removed]",
      "text/plain": [
       "<Figure size 1000x300 with 3 Axes>"
      ]
     },
     "metadata": {},
     "output_type": "display_data"
    }
   ],
   "source": [
    "import matplotlib.pyplot as plt\n",
    "\n",
    "# Plot the training and validation loss\n",
    "fig, axes = plt.subplots(1, 3, figsize=(10, 3))\n",
    "\n",
    "axes[0].plot(history.history['loss'])\n",
    "axes[0].plot(history.history['val_loss'])\n",
    "axes[0].set_title('Model Loss')\n",
    "axes[0].set_xlabel('Epoch')\n",
    "axes[0].set_ylabel('Loss')\n",
    "axes[0].legend(['Train', 'Validation'], loc='upper right')\n",
    "\n",
    "axes[1].plot(history.history['accuracy'])\n",
    "axes[1].plot(history.history['val_accuracy'])\n",
    "axes[1].set_title('Model Accuracy')\n",
    "axes[1].set_xlabel('Epoch')\n",
    "axes[1].set_ylabel('Accuracy')\n",
    "axes[1].legend(['Train', 'Validation'], loc='lower right')\n",
    "\n",
    "axes[2].plot(history.history['lr'])\n",
    "axes[2].set_title('Learning Rate')\n",
    "axes[2].set_xlabel('Epoch')\n",
    "axes[2].set_ylabel('Learning Rate')\n",
    "\n",
    "# Print the final training and validation accuracy\n",
    "final_train_accuracy = history.history['accuracy'][-1]\n",
    "final_val_accuracy = history.history['val_accuracy'][-1]\n",
    "axes[1].annotate(f'Train Acc: {final_train_accuracy:.4f}', xy=(len(history.history['accuracy']) - 1, final_train_accuracy), xytext=(10, 10),\n",
    "                 textcoords='offset points', arrowprops=dict(arrowstyle='->', color='black'))\n",
    "axes[1].annotate(f'Val Acc: {final_val_accuracy:.4f}', xy=(len(history.history['val_accuracy']) - 1, final_val_accuracy), xytext=(10, -30),\n",
    "                 textcoords='offset points', arrowprops=dict(arrowstyle='->', color='black'))\n",
    "\n",
    "plt.tight_layout()\n",
    "plt.show()"
   ]
  },
  {
   "attachments": {},
   "cell_type": "markdown",
   "metadata": {},
   "source": [
    "# Save the model and convert to .tflite"
   ]
  },
  {
   "cell_type": "code",
   "execution_count": 46,
   "metadata": {},
   "outputs": [
    {
     "name": "stderr",
     "output_type": "stream",
     "text": [
      "WARNING:absl:Function `_wrapped_model` contains input name(s) mobilenetv2_1.00_224_input with unsupported characters which will be renamed to mobilenetv2_1_00_224_input in the SavedModel.\n",
      "WARNING:absl:Found untraced functions such as _update_step_xla, _jit_compiled_convolution_op, _jit_compiled_convolution_op, _jit_compiled_convolution_op, _jit_compiled_convolution_op while saving (showing 5 of 53). These functions will not be directly callable after loading.\n"
     ]
    },
    {
     "name": "stdout",
     "output_type": "stream",
     "text": [
      "INFO:tensorflow:Assets written to: ./saved_model/tomato/3\\assets\n"
     ]
    },
    {
     "name": "stderr",
     "output_type": "stream",
     "text": [
      "INFO:tensorflow:Assets written to: ./saved_model/tomato/3\\assets\n"
     ]
    }
   ],
   "source": [
    "export_dir = './saved_model/tomato/3'\n",
    "tf.saved_model.save(model, export_dir)"
   ]
  },
  {
   "cell_type": "code",
   "execution_count": 47,
   "metadata": {},
   "outputs": [],
   "source": [
    "# mode = \"Speed\" \n",
    "\n",
    "# if mode == 'Storage':\n",
    "#     optimization = tf.lite.Optimize.OPTIMIZE_FOR_SIZE\n",
    "# elif mode == 'Speed':\n",
    "#     optimization = tf.lite.Optimize.OPTIMIZE_FOR_LATENCY\n",
    "# else:\n",
    "#     optimization = tf.lite.Optimize.DEFAULT\n",
    "\n",
    "converter = tf.lite.TFLiteConverter.from_saved_model(export_dir)\n",
    "converter.optimizations = [tf.lite.Optimize.DEFAULT]\n",
    "\n",
    "# Invoke the converter to finally generate the TFLite model\n",
    "tflite_model = converter.convert()"
   ]
  },
  {
   "cell_type": "code",
   "execution_count": 48,
   "metadata": {},
   "outputs": [
    {
     "data": {
      "text/plain": [
       "2873680"
      ]
     },
     "execution_count": 48,
     "metadata": {},
     "output_type": "execute_result"
    }
   ],
   "source": [
    "import pathlib\n",
    "tflite_model_file = pathlib.Path('./assets/tomato_disease9377.tflite')\n",
    "tflite_model_file.write_bytes(tflite_model)"
   ]
  },
  {
   "cell_type": "code",
   "execution_count": null,
   "metadata": {},
   "outputs": [],
   "source": []
  }
 ],
 "metadata": {
  "kernelspec": {
   "display_name": "Python 3",
   "language": "python",
   "name": "python3"
  },
  "language_info": {
   "codemirror_mode": {
    "name": "ipython",
    "version": 3
   },
   "file_extension": ".py",
   "mimetype": "text/x-python",
   "name": "python",
   "nbconvert_exporter": "python",
   "pygments_lexer": "ipython3",
   "version": "3.11.4"
  },
  "orig_nbformat": 4
 },
 "nbformat": 4,
 "nbformat_minor": 2
}
